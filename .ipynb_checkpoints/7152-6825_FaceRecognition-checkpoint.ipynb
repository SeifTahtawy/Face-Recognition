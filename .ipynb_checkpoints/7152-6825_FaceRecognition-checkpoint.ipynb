{
 "cells": [
  {
   "cell_type": "code",
   "execution_count": 1,
   "id": "b0039e2b",
   "metadata": {},
   "outputs": [],
   "source": [
    "import numpy as np\n",
    "import matplotlib.pyplot as plt\n",
    "import os\n",
    "from sklearn.neighbors import KNeighborsClassifier\n",
    "def generate_data_matrix(mainPath):\n",
    "    label = 1\n",
    "    data = []\n",
    "    labels = []\n",
    "    directories = os.listdir(path=mainPath)\n",
    "    for directory in directories:\n",
    "        path = os.path.join(mainPath,directory)\n",
    "        files = os.listdir(path=path)\n",
    "        for file in files:\n",
    "            file_path=os.path.join(path,file)\n",
    "            img = np.array(convert_pgm(file_path))\n",
    "            img=img.flatten()\n",
    "            data.append(img)\n",
    "            labels.append(label)\n",
    "        label+=1\n",
    "    return [data,labels]\n",
    "    \n",
    "def convert_pgm(pgm_file_path):\n",
    "    f=open(pgm_file_path,'rb')\n",
    "    for l in range(3):\n",
    "        f.readline()\n",
    "    img = []\n",
    "    for i in range(112):\n",
    "        row = []\n",
    "        for i in range(92):\n",
    "            row.append(ord(f.read(1)))\n",
    "        img.append(row)\n",
    "    return img\n",
    "\n",
    "\n",
    "        \n",
    "\n",
    "data, labels = generate_data_matrix(\"archive\")\n",
    "data = np.array(data)\n",
    "labels = np.array(labels)\n",
    "labels = labels.reshape(400,1)\n",
    "\n",
    "\n",
    "\n"
   ]
  },
  {
   "cell_type": "code",
   "execution_count": 2,
   "id": "2096b173",
   "metadata": {},
   "outputs": [],
   "source": [
    "X_train = data[::2, :] #odd rows for training set\n",
    "Y_train = labels[::2, :].reshape(200,)\n",
    "X_test = data[1::2,:] #even row for test set\n",
    "Y_test = labels[1::2, :].reshape(200,)\n"
   ]
  },
  {
   "cell_type": "markdown",
   "id": "61ddd62e",
   "metadata": {},
   "source": [
    "# PCA "
   ]
  },
  {
   "cell_type": "code",
   "execution_count": 3,
   "id": "82809296",
   "metadata": {},
   "outputs": [],
   "source": [
    "def PCA(X_train, alpha):\n",
    "    mean = np.mean(X_train, axis = 0) #Computing Mean\n",
    "    Z_train = X_train - mean # Centering the data\n",
    "    #centering test set\n",
    "    Z_test=X_test-mean\n",
    "    cov = (1/400) * np.dot(Z_train.T, Z_train)\n",
    "    eigen_values, eigen_vectors = np.linalg.eigh(cov)\n",
    "    #sorting eigen values\n",
    "    idx=np.argsort(eigen_values)[::-1]\n",
    "    eigen_values=eigen_values[idx]\n",
    "    eigen_vectors=eigen_vectors[:,idx]\n",
    "    #Y_train = Y_train.reshape(200,)\n",
    "    #Y_test = Y_test.reshape(200,)\n",
    "    #alphas = [0.8, 0.85, 0.9, 0.95,1,1.5,2,2.5,3,3.5,4]\n",
    "    sum_eigen_values = sum(eigen_values)\n",
    "    for i in range(len(eigen_values)):\n",
    "        var=sum(eigen_values[0:i+1:])/sum_eigen_values\n",
    "        if var >= alpha:\n",
    "            print(\"for alpha = \" + str(alpha) + \" explained variance = \" + str(var))\n",
    "            break\n",
    "        else:\n",
    "            continue\n",
    "    P = eigen_vectors[:,:i+1] # Projection Matrix\n",
    "    return [P, var, Z_train, Z_test] # Return projection matrix and explained variance."
   ]
  },
  {
   "cell_type": "code",
   "execution_count": 4,
   "id": "ff223aa9",
   "metadata": {},
   "outputs": [],
   "source": [
    "def knn(X_train,Y_train,X_test,Y_test, k):\n",
    "    knn = KNeighborsClassifier(n_neighbors=k)\n",
    "    knn.fit(X_train.T, Y_train)\n",
    "    accuracy = knn.score(X_test.T, Y_test)\n",
    "    return accuracy"
   ]
  },
  {
   "cell_type": "code",
   "execution_count": 5,
   "id": "f227879a",
   "metadata": {},
   "outputs": [],
   "source": [
    "# #sorting eigen values\n",
    "# idx=np.argsort(eigen_values)[::-1]\n",
    "# eigen_values=eigen_values[idx]\n",
    "# eigen_vectors=eigen_vectors[:,idx]\n",
    "# Y_train = Y_train.reshape(200,)\n",
    "# Y_test = Y_test.reshape(200,)\n",
    "# alphas = [0.8, 0.85, 0.9, 0.95,1,1.5,2,2.5,3,3.5,4]"
   ]
  },
  {
   "cell_type": "code",
   "execution_count": 6,
   "id": "98f3a259",
   "metadata": {
    "scrolled": true
   },
   "outputs": [
    {
     "name": "stdout",
     "output_type": "stream",
     "text": [
      "for alpha = 0.8 explained variance = 0.8016420916774841\n",
      "At alpha = 0.8, The mean accuracy = 0.94\n",
      "for alpha = 0.85 explained variance = 0.8524364417233415\n",
      "At alpha = 0.85, The mean accuracy = 0.94\n",
      "for alpha = 0.9 explained variance = 0.9011651378915895\n",
      "At alpha = 0.9, The mean accuracy = 0.94\n",
      "for alpha = 0.95 explained variance = 0.9502719351284116\n",
      "At alpha = 0.95, The mean accuracy = 0.93\n"
     ]
    },
    {
     "data": {
      "text/plain": [
       "[<matplotlib.lines.Line2D at 0x2458e6ae370>]"
      ]
     },
     "execution_count": 6,
     "metadata": {},
     "output_type": "execute_result"
    },
    {
     "data": {
      "image/png": "[encoded data removed]",
      "text/plain": [
       "<Figure size 432x288 with 1 Axes>"
      ]
     },
     "metadata": {
      "needs_background": "light"
     },
     "output_type": "display_data"
    }
   ],
   "source": [
    "#sum_eigen_values = sum(eigen_values)\n",
    "alphas = [0.8, 0.85, 0.9, 0.95]\n",
    "accuracy_for_each_alpha = []\n",
    "for alpha in alphas:\n",
    "#    for i in range(len(eigen_values)):\n",
    "#         var=sum(eigen_values[0:i+1:])/sum_eigen_values\n",
    "#         if var >= alpha:\n",
    "#             print(\"for alpha = \" + str(alpha) + \" explained variance = \" + str(var))\n",
    "#             break\n",
    "#         else:\n",
    "#             continue\n",
    "#     P=eigen_vectors[:,:i+1]\n",
    "    P, var, Z_train, Z_test = PCA(X_train, alpha)\n",
    "    projected_Z_train = np.dot(P.T, Z_train.T)\n",
    "    projected_Z_test = np.dot(P.T, Z_test.T)\n",
    "    accuracy = knn(projected_Z_train,Y_train, projected_Z_test, Y_test,1)\n",
    "#     knn = KNeighborsClassifier(n_neighbors=1)\n",
    "#     knn.fit(projected_Z_train.T, Y_train)\n",
    "    #accuracy = knn.score(projected_Z_test.T, Y_test)\n",
    "    accuracy_for_each_alpha.append(accuracy)\n",
    "    print(\"At alpha = \" + str(alpha) + \", The mean accuracy = \" + str(accuracy))\n",
    "    \n",
    "\n",
    "plt.plot(alphas, accuracy_for_each_alpha)\n",
    "    \n",
    "    \n",
    "    \n",
    "\n",
    "    \n",
    "        \n"
   ]
  },
  {
   "cell_type": "code",
   "execution_count": 7,
   "id": "77342235",
   "metadata": {},
   "outputs": [
    {
     "name": "stdout",
     "output_type": "stream",
     "text": [
      "for alpha = 0.8 explained variance = 0.8016420916774841\n",
      "for alpha = 0.85 explained variance = 0.8524364417233415\n",
      "for alpha = 0.9 explained variance = 0.9011651378915895\n",
      "for alpha = 0.95 explained variance = 0.9502719351284116\n",
      "[[0.875 0.825 0.775]\n",
      " [0.87  0.825 0.755]\n",
      " [0.875 0.81  0.74 ]\n",
      " [0.865 0.79  0.715]]\n"
     ]
    }
   ],
   "source": [
    "k_list = [3, 5, 7]\n",
    "alpha_K = np.zeros((4,3)) #2-D array showing accuracy for each combination of alpha and K\n",
    "for i in range(len(alphas)):\n",
    "    P2, var2, Z_train2, Z_test2 = PCA(X_train, alphas[i])\n",
    "    projected_Z_train2 = np.dot(P2.T, Z_train2.T)\n",
    "    projected_Z_test2 = np.dot(P2.T, Z_test2.T)\n",
    "    for j in range(len(k_list)):\n",
    "        alpha_K[i][j]= knn(projected_Z_train2,Y_train, projected_Z_test2, Y_test,k_list[j]) \n",
    "        \n",
    "print(alpha_K)"
   ]
  },
  {
   "cell_type": "code",
   "execution_count": null,
   "id": "7c1a3169",
   "metadata": {},
   "outputs": [],
   "source": []
  },
  {
   "cell_type": "code",
   "execution_count": null,
   "id": "44c2dd5a",
   "metadata": {},
   "outputs": [],
   "source": []
  }
 ],
 "metadata": {
  "kernelspec": {
   "display_name": "Python 3 (ipykernel)",
   "language": "python",
   "name": "python3"
  },
  "language_info": {
   "codemirror_mode": {
    "name": "ipython",
    "version": 3
   },
   "file_extension": ".py",
   "mimetype": "text/x-python",
   "name": "python",
   "nbconvert_exporter": "python",
   "pygments_lexer": "ipython3",
   "version": "3.9.12"
  }
 },
 "nbformat": 4,
 "nbformat_minor": 5
}
