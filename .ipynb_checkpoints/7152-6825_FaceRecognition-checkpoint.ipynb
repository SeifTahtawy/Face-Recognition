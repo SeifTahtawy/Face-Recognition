{
 "cells": [
  {
   "cell_type": "code",
   "execution_count": 1,
   "id": "b0039e2b",
   "metadata": {},
   "outputs": [],
   "source": [
    "import numpy as np\n",
    "import matplotlib.pyplot as plt\n",
    "import os\n",
    "from sklearn.neighbors import KNeighborsClassifier\n",
    "import cv2 as cv\n",
    "def generate_data_matrix(mainPath):\n",
    "    label = 1\n",
    "    data = np.ones((1,10304))\n",
    "    labels = np.array([])\n",
    "    directories = os.listdir(path=mainPath)\n",
    "    data_unflattened=[]\n",
    "    for directory in directories:\n",
    "        path = os.path.join(mainPath,directory)\n",
    "        files = os.listdir(path=path)\n",
    "        for file in files:\n",
    "            file_path=os.path.join(path,file)\n",
    "            if(os.path.splitext(file)[1] == \".pgm\"):\n",
    "                img = np.array(convert_pgm(file_path))\n",
    "                data_unflattened.append(img)\n",
    "                img=img.flatten().reshape(1,10304)\n",
    "                data = np.append(data, img, axis=0)\n",
    "                labels = np.append(labels, label)\n",
    "        \n",
    "            elif(os.path.splitext(file)[1] == \".jpg\"):\n",
    "                img_gray = cv.imread(file_path, 0)\n",
    "                img_gray =  cv.resize(img_gray,(92,112))\n",
    "                data_unflattened.append(img_gray)\n",
    "                img_gray=img_gray.flatten().reshape(1,10304)\n",
    "                data = np.append(data, img_gray, axis=0)\n",
    "                label = 0\n",
    "                labels = np.append(labels, label)\n",
    "        label+=1\n",
    "    \n",
    "    return [data[1:,:],labels,np.array(data_unflattened)]\n",
    "    \n",
    "def convert_pgm(pgm_file_path):\n",
    "    f=open(pgm_file_path,'rb')\n",
    "    for l in range(3):\n",
    "        f.readline()\n",
    "    img = []\n",
    "    for i in range(112):\n",
    "        row = []\n",
    "        for i in range(92):\n",
    "            row.append(ord(f.read(1)))\n",
    "        img.append(row)\n",
    "    return img\n",
    "\n",
    "\n",
    "        \n",
    "\n",
    "data, labels,data_unflattened = generate_data_matrix(\"archive\")\n",
    "data = np.array(data)\n",
    "labels = np.array(labels)\n",
    "labels = labels.reshape(400,1)\n",
    "\n",
    "\n",
    "\n",
    "\n",
    "\n"
   ]
  },
  {
   "cell_type": "code",
   "execution_count": null,
   "id": "7d8ca67f",
   "metadata": {},
   "outputs": [],
   "source": []
  },
  {
   "cell_type": "code",
   "execution_count": 2,
   "id": "2096b173",
   "metadata": {},
   "outputs": [
    {
     "name": "stdout",
     "output_type": "stream",
     "text": [
      "(400, 10304)\n",
      "[86.265 86.365 86.795 ... 77.35  77.915 78.24 ]\n",
      "86.365\n"
     ]
    }
   ],
   "source": [
    "X_train = data[1::2] #odd rows for training set\n",
    "Y_train = labels[1::2].reshape(200,)\n",
    "X_test = data[0::2] #even row for test set\n",
    "Y_test = labels[0::2].reshape(200,)\n",
    "alphas = [0.8, 0.85, 0.9, 0.95]\n",
    "#print(X_train.shape)\n",
    "print(data.shape)\n",
    "print(np.mean(X_train, axis=0))\n",
    "print(np.mean(X_train[:,1],axis=0))"
   ]
  },
  {
   "cell_type": "markdown",
   "id": "61ddd62e",
   "metadata": {},
   "source": [
    "# PCA "
   ]
  },
  {
   "cell_type": "code",
   "execution_count": 3,
   "id": "82809296",
   "metadata": {},
   "outputs": [],
   "source": [
    "def PCA(X_train, X_test, alpha):\n",
    "    mean = np.mean(X_train, axis = 0) #Computing Mean\n",
    "    Z_train = X_train - mean # Centering the data\n",
    "    #centering test set\n",
    "    Z_test=X_test-mean\n",
    "    cov = (1/400) * np.dot(Z_train.T, Z_train)\n",
    "    eigen_values, eigen_vectors = np.linalg.eigh(cov)\n",
    "    #sorting eigen values\n",
    "    idx=np.argsort(eigen_values)[::-1]\n",
    "    eigen_values=eigen_values[idx]\n",
    "    eigen_vectors=eigen_vectors[:,idx]\n",
    "    #Y_train = Y_train.reshape(200,)\n",
    "    #Y_test = Y_test.reshape(200,)\n",
    "    #alphas = [0.8, 0.85, 0.9, 0.95,1,1.5,2,2.5,3,3.5,4]\n",
    "    sum_eigen_values = sum(eigen_values)\n",
    "    for i in range(len(eigen_values)):\n",
    "        var=sum(eigen_values[0:i+1:])/sum_eigen_values\n",
    "        if var >= alpha:\n",
    "            print(\"for alpha = \" + str(alpha) + \" explained variance = \" + str(var))\n",
    "            break\n",
    "        else:\n",
    "            continue\n",
    "    P = eigen_vectors[:,:i+1] # Projection Matrix\n",
    "    return [P, var, Z_train, Z_test] # Return projection matrix and explained variance."
   ]
  },
  {
   "cell_type": "code",
   "execution_count": 4,
   "id": "ff223aa9",
   "metadata": {},
   "outputs": [],
   "source": [
    "def knn(X_train,Y_train,X_test,Y_test, k):\n",
    "    knn = KNeighborsClassifier(n_neighbors=k)\n",
    "    knn.fit(X_train.T, Y_train)\n",
    "    accuracy = knn.score(X_test.T, Y_test)\n",
    "    return accuracy"
   ]
  },
  {
   "cell_type": "code",
   "execution_count": null,
   "id": "98f3a259",
   "metadata": {
    "scrolled": true
   },
   "outputs": [],
   "source": [
    "\n",
    "accuracy_for_each_alpha = []\n",
    "for alpha in alphas:\n",
    "    P, var, Z_train, Z_test = PCA(X_train,X_test, alpha)\n",
    "    projected_Z_train = np.dot(P.T, Z_train.T)\n",
    "    projected_Z_test = np.dot(P.T, Z_test.T)\n",
    "    accuracy = knn(projected_Z_train,Y_train, projected_Z_test, Y_test,1)\n",
    "    accuracy_for_each_alpha.append(accuracy)\n",
    "    print(\"At alpha = \" + str(alpha) + \", The mean accuracy = \" + str(accuracy))\n",
    "    \n",
    "\n",
    "plt.plot(alphas, accuracy_for_each_alpha)\n",
    "\n"
   ]
  },
  {
   "cell_type": "code",
   "execution_count": null,
   "id": "77342235",
   "metadata": {},
   "outputs": [],
   "source": [
    "k_list = [1, 3, 5, 7]\n",
    "alpha_K = np.zeros((4,4)) #2-D array showing accuracy for each combination of alpha and K\n",
    "for i in range(len(alphas)):\n",
    "    P2, var2, Z_train2, Z_test2 = PCA(X_train,X_test, alphas[i])\n",
    "    projected_Z_train2 = np.dot(P2.T, Z_train2.T)\n",
    "    projected_Z_test2 = np.dot(P2.T, Z_test2.T)\n",
    "    for j in range(len(k_list)):\n",
    "        alpha_K[i][j]= knn(projected_Z_train2,Y_train, projected_Z_test2, Y_test,k_list[j]) \n",
    "        \n",
    "print(alpha_K)"
   ]
  },
  {
   "cell_type": "markdown",
   "id": "dde9f86a",
   "metadata": {},
   "source": [
    "# LDA"
   ]
  },
  {
   "cell_type": "markdown",
   "id": "fa351ef9",
   "metadata": {},
   "source": [
    "### Between scatter matrix"
   ]
  },
  {
   "cell_type": "code",
   "execution_count": 5,
   "id": "535331f3",
   "metadata": {},
   "outputs": [],
   "source": [
    "def between_class_scatter(X_train):\n",
    "    means= np.ones((40,10304))\n",
    "    #calculating mean of each class\n",
    "    index=0\n",
    "    for i in range(0,200,5):\n",
    "        means[index]=np.mean(X_train[i:i+5],axis=0,keepdims=True)\n",
    "        index+=1\n",
    "     #overall mean\n",
    "    ov_mean=np.mean(X_train,axis=0,keepdims=True)\n",
    "    Sb=np.zeros((10304,10304))\n",
    "    #between class scatter\n",
    "    for i in range(40):\n",
    "        m=means[i]-ov_mean\n",
    "        m=m.reshape(10304,1)\n",
    "        Sb=np.add(Sb,5*np.dot(m,m.T))\n",
    "    return [means,Sb]"
   ]
  },
  {
   "cell_type": "code",
   "execution_count": 6,
   "id": "f619856c",
   "metadata": {},
   "outputs": [],
   "source": [
    "means,Sb=between_class_scatter(X_train)"
   ]
  },
  {
   "cell_type": "markdown",
   "id": "c84997de",
   "metadata": {},
   "source": [
    "### Within scatter matrix"
   ]
  },
  {
   "cell_type": "code",
   "execution_count": 7,
   "id": "aef93e6b",
   "metadata": {},
   "outputs": [],
   "source": [
    "def within_class_scatter(X_train,means):\n",
    "    #overall mean\n",
    "    ov_mean=np.mean(X_train,axis=0,keepdims=True)\n",
    "    S=np.zeros((10304,10304))\n",
    "    #within class scatter\n",
    "    index=0\n",
    "    for i in range(0,200,5):\n",
    "        class_scatter=X_train[i:i+5]-means[index]\n",
    "        class_scatter=class_scatter.reshape(5,10304)\n",
    "        index+=1\n",
    "        S=np.add(S,np.dot(class_scatter.T,class_scatter))\n",
    "    return S"
   ]
  },
  {
   "cell_type": "code",
   "execution_count": null,
   "id": "30cbc891",
   "metadata": {},
   "outputs": [],
   "source": []
  },
  {
   "cell_type": "code",
   "execution_count": 8,
   "id": "44c2dd5a",
   "metadata": {},
   "outputs": [],
   "source": [
    "S=within_class_scatter(X_train,means)"
   ]
  },
  {
   "cell_type": "markdown",
   "id": "3b9c1077",
   "metadata": {},
   "source": [
    "### Computing eigen vectors"
   ]
  },
  {
   "cell_type": "code",
   "execution_count": 9,
   "id": "7c1a3169",
   "metadata": {},
   "outputs": [],
   "source": [
    "def LDA(S,Sb):\n",
    "    transformation_matrix=np.dot(np.linalg.inv(S),Sb)\n",
    "    eigen_values,eigen_vectors=np.linalg.eigh(transformation_matrix)\n",
    "    #sorting eigen values\n",
    "    idx=np.argsort(eigen_values)[::-1]\n",
    "    eigen_values=eigen_values[idx]\n",
    "    eigen_vectors=eigen_vectors[:,idx]\n",
    "    U=eigen_vectors[:,:39]\n",
    "    return [U,eigen_values[:39:]]\n",
    "    "
   ]
  },
  {
   "cell_type": "code",
   "execution_count": 10,
   "id": "6ded3f45",
   "metadata": {},
   "outputs": [],
   "source": [
    "U,E_values=LDA(S,Sb)\n"
   ]
  },
  {
   "cell_type": "markdown",
   "id": "6e606385",
   "metadata": {},
   "source": [
    "### Projecting data and KNN"
   ]
  },
  {
   "cell_type": "code",
   "execution_count": 12,
   "id": "d731914e",
   "metadata": {},
   "outputs": [
    {
     "name": "stdout",
     "output_type": "stream",
     "text": [
      "accuracy: 0.94\n"
     ]
    }
   ],
   "source": [
    "# Centering the data\n",
    "Z_train = X_train - np.mean(X_train, axis = 0) \n",
    "#centering test set\n",
    "Z_test=X_test-np.mean(X_train, axis = 0)\n",
    "#projecting training and test sets on U\n",
    "Train_projected=np.dot(U.T,Z_train.T)\n",
    "Test_projected=np.dot(U.T,Z_test.T)\n",
    "#KNN\n",
    "accuracy_LDA = knn(Train_projected,Y_train, Test_projected, Y_test,1)\n",
    "print(f\"accuracy: {accuracy_LDA}\")"
   ]
  },
  {
   "cell_type": "markdown",
   "id": "feac4df8",
   "metadata": {},
   "source": [
    "### classifier tuning"
   ]
  },
  {
   "cell_type": "code",
   "execution_count": 13,
   "id": "7b61fb41",
   "metadata": {},
   "outputs": [
    {
     "name": "stdout",
     "output_type": "stream",
     "text": [
      "accuracy: 0.94\n",
      "accuracy: 0.89\n",
      "accuracy: 0.89\n",
      "accuracy: 0.81\n"
     ]
    },
    {
     "data": {
      "text/plain": [
       "[<matplotlib.lines.Line2D at 0x165a4a7c490>]"
      ]
     },
     "execution_count": 13,
     "metadata": {},
     "output_type": "execute_result"
    },
    {
     "data": {
      "image/png": "[encoded data removed]",
      "text/plain": [
       "<Figure size 432x288 with 1 Axes>"
      ]
     },
     "metadata": {
      "needs_background": "light"
     },
     "output_type": "display_data"
    }
   ],
   "source": [
    "k_list = [1, 3, 5, 7]\n",
    "k_accuracies=[]\n",
    "i=0\n",
    "for k in k_list:\n",
    "    k_accuracies.append(knn(Train_projected,Y_train, Test_projected, Y_test,k))\n",
    "    print(f\"accuracy: {k_accuracies[i]}\")\n",
    "    i+=1\n",
    "plt.plot(k_list, k_accuracies)"
   ]
  },
  {
   "cell_type": "markdown",
   "id": "36f60275",
   "metadata": {},
   "source": [
    "# Compare vs Non-Face Images "
   ]
  },
  {
   "cell_type": "code",
   "execution_count": 5,
   "id": "64c7530f",
   "metadata": {},
   "outputs": [
    {
     "data": {
      "text/plain": [
       "(600, 10304)"
      ]
     },
     "execution_count": 5,
     "metadata": {},
     "output_type": "execute_result"
    }
   ],
   "source": [
    "nonFace_data, nonFace_labels,nonFace_data_unflattened = generate_data_matrix(\"Nonface\")\n",
    "#new_data = np.concatenate((data, nonFace_data))\n",
    "face_labels = np.ones((200,1))\n",
    "nonFace_data.shape"
   ]
  },
  {
   "cell_type": "markdown",
   "id": "e25fd4a5",
   "metadata": {},
   "source": [
    "# Fixing Number of face images while changing number of non-face images"
   ]
  },
  {
   "cell_type": "code",
   "execution_count": 6,
   "id": "66725ad9",
   "metadata": {},
   "outputs": [],
   "source": [
    "def split_data(nonFace_data,nonFace_labels, X_train, Y_train, X_test, Y_test):\n",
    "    X_train_nonface = nonFace_data[1::2] #odd rows for training set\n",
    "    Y_train_nonface = nonFace_labels[1::2]\n",
    "    X_test_nonface = nonFace_data[0::2] #even row for test set\n",
    "    Y_test_nonface = nonFace_labels[0::2]\n",
    "    dim = Y_train_nonface.shape[0]\n",
    "    new_X_train = np.concatenate((X_train,X_train_nonface))\n",
    "    new_Y_train = np.concatenate((face_labels,Y_train_nonface.reshape(dim,1)))\n",
    "    new_X_test = np.concatenate((X_test,X_test_nonface))\n",
    "    new_Y_test = np.concatenate((face_labels,Y_test_nonface.reshape((dim,1))))\n",
    "    return [new_X_train, new_Y_train, new_X_test, new_Y_test]"
   ]
  },
  {
   "cell_type": "code",
   "execution_count": 8,
   "id": "b8a009e3",
   "metadata": {},
   "outputs": [
    {
     "name": "stdout",
     "output_type": "stream",
     "text": [
      "for alpha = 0.8 explained variance = 0.8018756949283271\n"
     ]
    },
    {
     "name": "stderr",
     "output_type": "stream",
     "text": [
      "C:\\Users\\DELL\\anaconda3\\lib\\site-packages\\sklearn\\neighbors\\_classification.py:198: DataConversionWarning: A column-vector y was passed when a 1d array was expected. Please change the shape of y to (n_samples,), for example using ravel().\n",
      "  return self._fit(X, y)\n"
     ]
    },
    {
     "name": "stdout",
     "output_type": "stream",
     "text": [
      "for alpha = 0.85 explained variance = 0.851340118245401\n"
     ]
    },
    {
     "name": "stderr",
     "output_type": "stream",
     "text": [
      "C:\\Users\\DELL\\anaconda3\\lib\\site-packages\\sklearn\\neighbors\\_classification.py:198: DataConversionWarning: A column-vector y was passed when a 1d array was expected. Please change the shape of y to (n_samples,), for example using ravel().\n",
      "  return self._fit(X, y)\n"
     ]
    },
    {
     "name": "stdout",
     "output_type": "stream",
     "text": [
      "for alpha = 0.9 explained variance = 0.9005418692888699\n"
     ]
    },
    {
     "name": "stderr",
     "output_type": "stream",
     "text": [
      "C:\\Users\\DELL\\anaconda3\\lib\\site-packages\\sklearn\\neighbors\\_classification.py:198: DataConversionWarning: A column-vector y was passed when a 1d array was expected. Please change the shape of y to (n_samples,), for example using ravel().\n",
      "  return self._fit(X, y)\n"
     ]
    },
    {
     "name": "stdout",
     "output_type": "stream",
     "text": [
      "for alpha = 0.95 explained variance = 0.9505427624163314\n"
     ]
    },
    {
     "name": "stderr",
     "output_type": "stream",
     "text": [
      "C:\\Users\\DELL\\anaconda3\\lib\\site-packages\\sklearn\\neighbors\\_classification.py:198: DataConversionWarning: A column-vector y was passed when a 1d array was expected. Please change the shape of y to (n_samples,), for example using ravel().\n",
      "  return self._fit(X, y)\n"
     ]
    },
    {
     "name": "stdout",
     "output_type": "stream",
     "text": [
      "for alpha = 0.8 explained variance = 0.8005486909562687\n"
     ]
    },
    {
     "name": "stderr",
     "output_type": "stream",
     "text": [
      "C:\\Users\\DELL\\anaconda3\\lib\\site-packages\\sklearn\\neighbors\\_classification.py:198: DataConversionWarning: A column-vector y was passed when a 1d array was expected. Please change the shape of y to (n_samples,), for example using ravel().\n",
      "  return self._fit(X, y)\n"
     ]
    },
    {
     "name": "stdout",
     "output_type": "stream",
     "text": [
      "for alpha = 0.85 explained variance = 0.8515578086350641\n"
     ]
    },
    {
     "name": "stderr",
     "output_type": "stream",
     "text": [
      "C:\\Users\\DELL\\anaconda3\\lib\\site-packages\\sklearn\\neighbors\\_classification.py:198: DataConversionWarning: A column-vector y was passed when a 1d array was expected. Please change the shape of y to (n_samples,), for example using ravel().\n",
      "  return self._fit(X, y)\n"
     ]
    },
    {
     "name": "stdout",
     "output_type": "stream",
     "text": [
      "for alpha = 0.9 explained variance = 0.9001079865399143\n"
     ]
    },
    {
     "name": "stderr",
     "output_type": "stream",
     "text": [
      "C:\\Users\\DELL\\anaconda3\\lib\\site-packages\\sklearn\\neighbors\\_classification.py:198: DataConversionWarning: A column-vector y was passed when a 1d array was expected. Please change the shape of y to (n_samples,), for example using ravel().\n",
      "  return self._fit(X, y)\n"
     ]
    },
    {
     "name": "stdout",
     "output_type": "stream",
     "text": [
      "for alpha = 0.95 explained variance = 0.9500562801466206\n"
     ]
    },
    {
     "name": "stderr",
     "output_type": "stream",
     "text": [
      "C:\\Users\\DELL\\anaconda3\\lib\\site-packages\\sklearn\\neighbors\\_classification.py:198: DataConversionWarning: A column-vector y was passed when a 1d array was expected. Please change the shape of y to (n_samples,), for example using ravel().\n",
      "  return self._fit(X, y)\n"
     ]
    },
    {
     "name": "stdout",
     "output_type": "stream",
     "text": [
      "for alpha = 0.8 explained variance = 0.8012760382250119\n"
     ]
    },
    {
     "name": "stderr",
     "output_type": "stream",
     "text": [
      "C:\\Users\\DELL\\anaconda3\\lib\\site-packages\\sklearn\\neighbors\\_classification.py:198: DataConversionWarning: A column-vector y was passed when a 1d array was expected. Please change the shape of y to (n_samples,), for example using ravel().\n",
      "  return self._fit(X, y)\n"
     ]
    },
    {
     "name": "stdout",
     "output_type": "stream",
     "text": [
      "for alpha = 0.85 explained variance = 0.8501047863683975\n"
     ]
    },
    {
     "name": "stderr",
     "output_type": "stream",
     "text": [
      "C:\\Users\\DELL\\anaconda3\\lib\\site-packages\\sklearn\\neighbors\\_classification.py:198: DataConversionWarning: A column-vector y was passed when a 1d array was expected. Please change the shape of y to (n_samples,), for example using ravel().\n",
      "  return self._fit(X, y)\n"
     ]
    },
    {
     "name": "stdout",
     "output_type": "stream",
     "text": [
      "for alpha = 0.9 explained variance = 0.9003688333433311\n"
     ]
    },
    {
     "name": "stderr",
     "output_type": "stream",
     "text": [
      "C:\\Users\\DELL\\anaconda3\\lib\\site-packages\\sklearn\\neighbors\\_classification.py:198: DataConversionWarning: A column-vector y was passed when a 1d array was expected. Please change the shape of y to (n_samples,), for example using ravel().\n",
      "  return self._fit(X, y)\n"
     ]
    },
    {
     "name": "stdout",
     "output_type": "stream",
     "text": [
      "for alpha = 0.95 explained variance = 0.9501695696841306\n"
     ]
    },
    {
     "name": "stderr",
     "output_type": "stream",
     "text": [
      "C:\\Users\\DELL\\anaconda3\\lib\\site-packages\\sklearn\\neighbors\\_classification.py:198: DataConversionWarning: A column-vector y was passed when a 1d array was expected. Please change the shape of y to (n_samples,), for example using ravel().\n",
      "  return self._fit(X, y)\n"
     ]
    },
    {
     "name": "stdout",
     "output_type": "stream",
     "text": [
      "for alpha = 0.8 explained variance = 0.8030569452690284\n"
     ]
    },
    {
     "name": "stderr",
     "output_type": "stream",
     "text": [
      "C:\\Users\\DELL\\anaconda3\\lib\\site-packages\\sklearn\\neighbors\\_classification.py:198: DataConversionWarning: A column-vector y was passed when a 1d array was expected. Please change the shape of y to (n_samples,), for example using ravel().\n",
      "  return self._fit(X, y)\n"
     ]
    },
    {
     "name": "stdout",
     "output_type": "stream",
     "text": [
      "for alpha = 0.85 explained variance = 0.8513187156022349\n"
     ]
    },
    {
     "name": "stderr",
     "output_type": "stream",
     "text": [
      "C:\\Users\\DELL\\anaconda3\\lib\\site-packages\\sklearn\\neighbors\\_classification.py:198: DataConversionWarning: A column-vector y was passed when a 1d array was expected. Please change the shape of y to (n_samples,), for example using ravel().\n",
      "  return self._fit(X, y)\n"
     ]
    },
    {
     "name": "stdout",
     "output_type": "stream",
     "text": [
      "for alpha = 0.9 explained variance = 0.9008210028116869\n"
     ]
    },
    {
     "name": "stderr",
     "output_type": "stream",
     "text": [
      "C:\\Users\\DELL\\anaconda3\\lib\\site-packages\\sklearn\\neighbors\\_classification.py:198: DataConversionWarning: A column-vector y was passed when a 1d array was expected. Please change the shape of y to (n_samples,), for example using ravel().\n",
      "  return self._fit(X, y)\n"
     ]
    },
    {
     "name": "stdout",
     "output_type": "stream",
     "text": [
      "for alpha = 0.95 explained variance = 0.9500960303441088\n"
     ]
    },
    {
     "name": "stderr",
     "output_type": "stream",
     "text": [
      "C:\\Users\\DELL\\anaconda3\\lib\\site-packages\\sklearn\\neighbors\\_classification.py:198: DataConversionWarning: A column-vector y was passed when a 1d array was expected. Please change the shape of y to (n_samples,), for example using ravel().\n",
      "  return self._fit(X, y)\n"
     ]
    },
    {
     "name": "stdout",
     "output_type": "stream",
     "text": [
      "for alpha = 0.8 explained variance = 0.8020999911976708\n"
     ]
    },
    {
     "name": "stderr",
     "output_type": "stream",
     "text": [
      "C:\\Users\\DELL\\anaconda3\\lib\\site-packages\\sklearn\\neighbors\\_classification.py:198: DataConversionWarning: A column-vector y was passed when a 1d array was expected. Please change the shape of y to (n_samples,), for example using ravel().\n",
      "  return self._fit(X, y)\n"
     ]
    },
    {
     "name": "stdout",
     "output_type": "stream",
     "text": [
      "for alpha = 0.85 explained variance = 0.8503116590049522\n"
     ]
    },
    {
     "name": "stderr",
     "output_type": "stream",
     "text": [
      "C:\\Users\\DELL\\anaconda3\\lib\\site-packages\\sklearn\\neighbors\\_classification.py:198: DataConversionWarning: A column-vector y was passed when a 1d array was expected. Please change the shape of y to (n_samples,), for example using ravel().\n",
      "  return self._fit(X, y)\n"
     ]
    },
    {
     "name": "stdout",
     "output_type": "stream",
     "text": [
      "for alpha = 0.9 explained variance = 0.9005152265810992\n"
     ]
    },
    {
     "name": "stderr",
     "output_type": "stream",
     "text": [
      "C:\\Users\\DELL\\anaconda3\\lib\\site-packages\\sklearn\\neighbors\\_classification.py:198: DataConversionWarning: A column-vector y was passed when a 1d array was expected. Please change the shape of y to (n_samples,), for example using ravel().\n",
      "  return self._fit(X, y)\n"
     ]
    },
    {
     "name": "stdout",
     "output_type": "stream",
     "text": [
      "for alpha = 0.95 explained variance = 0.9502481477975006\n"
     ]
    },
    {
     "name": "stderr",
     "output_type": "stream",
     "text": [
      "C:\\Users\\DELL\\anaconda3\\lib\\site-packages\\sklearn\\neighbors\\_classification.py:198: DataConversionWarning: A column-vector y was passed when a 1d array was expected. Please change the shape of y to (n_samples,), for example using ravel().\n",
      "  return self._fit(X, y)\n"
     ]
    }
   ],
   "source": [
    "non_face_list = [200, 300, 400, 500, 600]\n",
    "accuracies_nonfaces = []\n",
    "for number_of_nonfaces in non_face_list:\n",
    "    new_X_train, new_Y_train, new_X_test, new_Y_test = split_data(nonFace_data[:number_of_nonfaces],nonFace_labels[:number_of_nonfaces], X_train, face_labels, X_test, face_labels)\n",
    "    for alpha in alphas:\n",
    "        P, var, Z_train, Z_test = PCA(new_X_train,new_X_test, alpha)\n",
    "        projected_Z_train = np.dot(P.T, Z_train.T)\n",
    "        projected_Z_test = np.dot(P.T, Z_test.T)\n",
    "        accuracy = knn(projected_Z_train,new_Y_train, projected_Z_test, new_Y_test,1)\n",
    "        accuracies_nonfaces.append(accuracy)"
   ]
  },
  {
   "cell_type": "code",
   "execution_count": 9,
   "id": "05182c89",
   "metadata": {},
   "outputs": [
    {
     "data": {
      "text/plain": [
       "[0.9166666666666666,\n",
       " 0.91,\n",
       " 0.8833333333333333,\n",
       " 0.86,\n",
       " 0.9342857142857143,\n",
       " 0.9228571428571428,\n",
       " 0.9085714285714286,\n",
       " 0.8857142857142857,\n",
       " 0.905,\n",
       " 0.89,\n",
       " 0.8825,\n",
       " 0.855,\n",
       " 0.9266666666666666,\n",
       " 0.9111111111111111,\n",
       " 0.9,\n",
       " 0.8755555555555555,\n",
       " 0.93,\n",
       " 0.916,\n",
       " 0.908,\n",
       " 0.892]"
      ]
     },
     "execution_count": 9,
     "metadata": {},
     "output_type": "execute_result"
    }
   ],
   "source": [
    "accuracies_nonfaces"
   ]
  },
  {
   "cell_type": "code",
   "execution_count": null,
   "id": "abd5b634",
   "metadata": {},
   "outputs": [],
   "source": []
  }
 ],
 "metadata": {
  "kernelspec": {
   "display_name": "Python 3 (ipykernel)",
   "language": "python",
   "name": "python3"
  },
  "language_info": {
   "codemirror_mode": {
    "name": "ipython",
    "version": 3
   },
   "file_extension": ".py",
   "mimetype": "text/x-python",
   "name": "python",
   "nbconvert_exporter": "python",
   "pygments_lexer": "ipython3",
   "version": "3.9.12"
  }
 },
 "nbformat": 4,
 "nbformat_minor": 5
}
