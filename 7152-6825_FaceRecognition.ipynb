{
 "cells": [
  {
   "cell_type": "code",
   "execution_count": 176,
   "id": "b0039e2b",
   "metadata": {},
   "outputs": [],
   "source": [
    "import numpy as np\n",
    "import matplotlib.pyplot as plt\n",
    "import os\n",
    "def generate_data_matrix(mainPath):\n",
    "    label = 1\n",
    "    data = []\n",
    "    labels = []\n",
    "    directories = os.listdir(path=mainPath)\n",
    "    for directory in directories:\n",
    "        path = os.path.join(main_path,directory)\n",
    "        files = os.listdir(path=path)\n",
    "        for file in files:\n",
    "            file_path=os.path.join(path,file)\n",
    "            img = np.array(convert_pgm(file_path))\n",
    "            img=img.flatten()\n",
    "            data.append(img)\n",
    "            labels.append(label)\n",
    "        label+=1\n",
    "    return [data,labels]\n",
    "    \n",
    "def convert_pgm(pgm_file_path):\n",
    "    f=open(pgm_file_path,'rb')\n",
    "    for l in range(3):\n",
    "        f.readline()\n",
    "    img = []\n",
    "    for i in range(112):\n",
    "        row = []\n",
    "        for i in range(92):\n",
    "            row.append(ord(f.read(1)))\n",
    "        img.append(row)\n",
    "    return img\n",
    "\n",
    "\n",
    "        \n",
    "\n",
    "data, labels = generate_data_matrix(\"archive\")\n",
    "data = np.array(data)\n",
    "labels = np.array(labels)\n",
    "labels = labels.reshape(400,1)\n",
    "\n",
    "\n",
    "\n"
   ]
  },
  {
   "cell_type": "code",
   "execution_count": 186,
   "id": "2096b173",
   "metadata": {},
   "outputs": [],
   "source": [
    "X_train = data[::2, :] #odd rows for training set\n",
    "Y_train = labels[::2, :]\n",
    "X_test = data[1::2,:] #even row for test set\n",
    "Y_test = labels[1::2, :]"
   ]
  },
  {
   "cell_type": "markdown",
   "id": "61ddd62e",
   "metadata": {},
   "source": [
    "# PCA "
   ]
  },
  {
   "cell_type": "code",
   "execution_count": 198,
   "id": "82809296",
   "metadata": {},
   "outputs": [],
   "source": [
    "mean = np.mean(X_train, axis = 0) #Computing Mean\n",
    "Z_train = X_train - mean # Centering the data\n",
    "#centering test set\n",
    "Z_test=X_test-mean\n",
    "cov = (1/400) * np.dot(Z_train.T, Z_train)\n",
    "alphas = [0.8, 0.85, 0.9, 0.95]\n",
    "\n"
   ]
  },
  {
   "cell_type": "code",
   "execution_count": 197,
   "id": "ff223aa9",
   "metadata": {},
   "outputs": [],
   "source": [
    "eigen_values, eigen_vectors = np.linalg.eigh(cov)"
   ]
  },
  {
   "cell_type": "code",
   "execution_count": 205,
   "id": "f227879a",
   "metadata": {},
   "outputs": [],
   "source": [
    "#sorting eigen values\n",
    "idx=np.argsort(eigen_values)[::-1]\n",
    "eigen_values=eigen_values[idx]\n",
    "eigen_vectors=eigen_vectors[:,idx]"
   ]
  },
  {
   "cell_type": "code",
   "execution_count": 224,
   "id": "98f3a259",
   "metadata": {},
   "outputs": [
    {
     "name": "stdout",
     "output_type": "stream",
     "text": [
      "(10304, 36)\n",
      "(10304, 52)\n",
      "(10304, 76)\n",
      "(10304, 115)\n"
     ]
    }
   ],
   "source": [
    "sum_eigen_values = sum(eigen_values)\n",
    "for alpha in alphas:\n",
    "    for i in range(len(eigen_values)):\n",
    "        var=sum(eigen_values[0:i+1:])/sum_eigen_values\n",
    "        if var >= alpha:\n",
    "            break\n",
    "        else:\n",
    "            continue\n",
    "    P=eigen_vectors[:,:i+1]\n",
    "    print(P.shape)\n",
    "\n",
    "    \n",
    "        \n"
   ]
  },
  {
   "cell_type": "code",
   "execution_count": 217,
   "id": "77342235",
   "metadata": {},
   "outputs": [
    {
     "data": {
      "text/plain": [
       "(10304, 10304)"
      ]
     },
     "execution_count": 217,
     "metadata": {},
     "output_type": "execute_result"
    }
   ],
   "source": [
    "P"
   ]
  },
  {
   "cell_type": "code",
   "execution_count": null,
   "id": "7c1a3169",
   "metadata": {},
   "outputs": [],
   "source": []
  }
 ],
 "metadata": {
  "kernelspec": {
   "display_name": "Python 3 (ipykernel)",
   "language": "python",
   "name": "python3"
  },
  "language_info": {
   "codemirror_mode": {
    "name": "ipython",
    "version": 3
   },
   "file_extension": ".py",
   "mimetype": "text/x-python",
   "name": "python",
   "nbconvert_exporter": "python",
   "pygments_lexer": "ipython3",
   "version": "3.9.7"
  }
 },
 "nbformat": 4,
 "nbformat_minor": 5
}
