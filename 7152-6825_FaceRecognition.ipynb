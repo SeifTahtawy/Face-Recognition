{
 "cells": [
  {
   "cell_type": "code",
   "execution_count": 1,
   "id": "b0039e2b",
   "metadata": {},
   "outputs": [],
   "source": [
    "import numpy as np\n",
    "import matplotlib.pyplot as plt\n",
    "import os\n",
    "from sklearn.neighbors import KNeighborsClassifier\n",
    "def generate_data_matrix(mainPath):\n",
    "    label = 1\n",
    "    data = []\n",
    "    labels = []\n",
    "    directories = os.listdir(path=mainPath)\n",
    "    for directory in directories:\n",
    "        path = os.path.join(mainPath,directory)\n",
    "        files = os.listdir(path=path)\n",
    "        for file in files:\n",
    "            file_path=os.path.join(path,file)\n",
    "            img = np.array(convert_pgm(file_path))\n",
    "            img=img.flatten()\n",
    "            data.append(img)\n",
    "            labels.append(label)\n",
    "        label+=1\n",
    "    return [data,labels]\n",
    "    \n",
    "def convert_pgm(pgm_file_path):\n",
    "    f=open(pgm_file_path,'rb')\n",
    "    for l in range(3):\n",
    "        f.readline()\n",
    "    img = []\n",
    "    for i in range(112):\n",
    "        row = []\n",
    "        for i in range(92):\n",
    "            row.append(ord(f.read(1)))\n",
    "        img.append(row)\n",
    "    return img\n",
    "\n",
    "\n",
    "        \n",
    "\n",
    "data, labels = generate_data_matrix(\"archive\")\n",
    "data = np.array(data)\n",
    "labels = np.array(labels)\n",
    "labels = labels.reshape(400,1)\n",
    "\n",
    "\n",
    "\n"
   ]
  },
  {
   "cell_type": "code",
   "execution_count": 2,
   "id": "2096b173",
   "metadata": {},
   "outputs": [],
   "source": [
    "X_train = data[::2, :] #odd rows for training set\n",
    "Y_train = labels[::2, :].reshape(200,)\n",
    "X_test = data[1::2,:] #even row for test set\n",
    "Y_test = labels[1::2, :].reshape(200,)\n"
   ]
  },
  {
   "cell_type": "markdown",
   "id": "61ddd62e",
   "metadata": {},
   "source": [
    "# PCA "
   ]
  },
  {
   "cell_type": "code",
   "execution_count": 120,
   "id": "82809296",
   "metadata": {},
   "outputs": [],
   "source": [
    "def PCA(X_train, alpha):\n",
    "    mean = np.mean(X_train, axis = 0) #Computing Mean\n",
    "    Z_train = X_train - mean # Centering the data\n",
    "    #centering test set\n",
    "    Z_test=X_test-mean\n",
    "    cov = (1/400) * np.dot(Z_train.T, Z_train)\n",
    "    eigen_values, eigen_vectors = np.linalg.eigh(cov)\n",
    "    #sorting eigen values\n",
    "    idx=np.argsort(eigen_values)[::-1]\n",
    "    eigen_values=eigen_values[idx]\n",
    "    eigen_vectors=eigen_vectors[:,idx]\n",
    "    #Y_train = Y_train.reshape(200,)\n",
    "    #Y_test = Y_test.reshape(200,)\n",
    "    #alphas = [0.8, 0.85, 0.9, 0.95,1,1.5,2,2.5,3,3.5,4]\n",
    "    sum_eigen_values = sum(eigen_values)\n",
    "    for i in range(len(eigen_values)):\n",
    "        var=sum(eigen_values[0:i+1:])/sum_eigen_values\n",
    "        if var >= alpha:\n",
    "            print(\"for alpha = \" + str(alpha) + \" explained variance = \" + str(var))\n",
    "            break\n",
    "        else:\n",
    "            continue\n",
    "    P = eigen_vectors[:,:i+1] # Projection Matrix\n",
    "    return [P, var, Z_train, Z_test] # Return projection matrix and explained variance."
   ]
  },
  {
   "cell_type": "code",
   "execution_count": 12,
   "id": "ff223aa9",
   "metadata": {},
   "outputs": [],
   "source": [
    "def knn(X_train,Y_train,X_test,Y_test, k):\n",
    "    knn = KNeighborsClassifier(n_neighbors=k)\n",
    "    knn.fit(X_train.T, Y_train)\n",
    "    accuracy = knn.score(X_test.T, Y_test)\n",
    "    return accuracy"
   ]
  },
  {
   "cell_type": "code",
   "execution_count": 122,
   "id": "f227879a",
   "metadata": {},
   "outputs": [],
   "source": [
    "# #sorting eigen values\n",
    "# idx=np.argsort(eigen_values)[::-1]\n",
    "# eigen_values=eigen_values[idx]\n",
    "# eigen_vectors=eigen_vectors[:,idx]\n",
    "# Y_train = Y_train.reshape(200,)\n",
    "# Y_test = Y_test.reshape(200,)\n",
    "# alphas = [0.8, 0.85, 0.9, 0.95,1,1.5,2,2.5,3,3.5,4]"
   ]
  },
  {
   "cell_type": "code",
   "execution_count": 123,
   "id": "98f3a259",
   "metadata": {
    "scrolled": true
   },
   "outputs": [
    {
     "name": "stdout",
     "output_type": "stream",
     "text": [
      "(10304, 10304)\n",
      "for alpha = 0.8 explained variance = 0.8016311012351774\n",
      "At alpha = 0.8, The mean accuracy = 0.94\n",
      "(10304, 10304)\n",
      "for alpha = 0.85 explained variance = 0.8524299364897455\n",
      "At alpha = 0.85, The mean accuracy = 0.94\n",
      "(10304, 10304)\n",
      "for alpha = 0.9 explained variance = 0.9011500964818602\n",
      "At alpha = 0.9, The mean accuracy = 0.94\n",
      "(10304, 10304)\n",
      "for alpha = 0.95 explained variance = 0.9502436919094086\n",
      "At alpha = 0.95, The mean accuracy = 0.93\n"
     ]
    },
    {
     "data": {
      "text/plain": [
       "[<matplotlib.lines.Line2D at 0x1f62dad40a0>]"
      ]
     },
     "execution_count": 123,
     "metadata": {},
     "output_type": "execute_result"
    },
    {
     "data": {
      "image/png": "[encoded data removed]",
      "text/plain": [
       "<Figure size 432x288 with 1 Axes>"
      ]
     },
     "metadata": {
      "needs_background": "light"
     },
     "output_type": "display_data"
    }
   ],
   "source": [
    "#sum_eigen_values = sum(eigen_values)\n",
    "alphas = [0.8, 0.85, 0.9, 0.95]\n",
    "accuracy_for_each_alpha = []\n",
    "for alpha in alphas:\n",
    "#    for i in range(len(eigen_values)):\n",
    "#         var=sum(eigen_values[0:i+1:])/sum_eigen_values\n",
    "#         if var >= alpha:\n",
    "#             print(\"for alpha = \" + str(alpha) + \" explained variance = \" + str(var))\n",
    "#             break\n",
    "#         else:\n",
    "#             continue\n",
    "#     P=eigen_vectors[:,:i+1]\n",
    "    P, var, Z_train, Z_test = PCA(X_train, alpha)\n",
    "    projected_Z_train = np.dot(P.T, Z_train.T)\n",
    "    projected_Z_test = np.dot(P.T, Z_test.T)\n",
    "    accuracy = knn(projected_Z_train,Y_train, projected_Z_test, Y_test,1)\n",
    "#     knn = KNeighborsClassifier(n_neighbors=1)\n",
    "#     knn.fit(projected_Z_train.T, Y_train)\n",
    "    #accuracy = knn.score(projected_Z_test.T, Y_test)\n",
    "    accuracy_for_each_alpha.append(accuracy)\n",
    "    print(\"At alpha = \" + str(alpha) + \", The mean accuracy = \" + str(accuracy))\n",
    "    \n",
    "\n",
    "plt.plot(alphas, accuracy_for_each_alpha)\n",
    "    \n",
    "    \n",
    "    \n",
    "\n",
    "    \n",
    "        \n"
   ]
  },
  {
   "cell_type": "code",
   "execution_count": 7,
   "id": "77342235",
   "metadata": {},
   "outputs": [
    {
     "name": "stdout",
     "output_type": "stream",
     "text": [
      "for alpha = 0.8 explained variance = 0.8016311012351774\n",
      "for alpha = 0.85 explained variance = 0.8524299364897455\n",
      "for alpha = 0.9 explained variance = 0.9011500964818602\n",
      "for alpha = 0.95 explained variance = 0.9502436919094086\n",
      "[[0.875 0.825 0.775]\n",
      " [0.87  0.83  0.76 ]\n",
      " [0.875 0.81  0.74 ]\n",
      " [0.865 0.79  0.715]]\n"
     ]
    }
   ],
   "source": [
    "k_list = [3, 5, 7]\n",
    "alpha_K = np.zeros((4,3)) #2-D array showing accuracy for each combination of alpha and K\n",
    "for i in range(len(alphas)):\n",
    "    P2, var2, Z_train2, Z_test2 = PCA(X_train, alphas[i])\n",
    "    projected_Z_train2 = np.dot(P2.T, Z_train2.T)\n",
    "    projected_Z_test2 = np.dot(P2.T, Z_test2.T)\n",
    "    for j in range(len(k_list)):\n",
    "        alpha_K[i][j]= knn(projected_Z_train2,Y_train, projected_Z_test2, Y_test,k_list[j]) \n",
    "        \n",
    "print(alpha_K)"
   ]
  },
  {
   "cell_type": "markdown",
   "id": "dde9f86a",
   "metadata": {},
   "source": [
    "# LDA"
   ]
  },
  {
   "cell_type": "code",
   "execution_count": 3,
   "id": "535331f3",
   "metadata": {},
   "outputs": [],
   "source": [
    "def between_class_scatter(X_train):\n",
    "    means= np.ones((40,10304))\n",
    "    #calculating mean of each class\n",
    "    index=0\n",
    "    for i in range(0,200,5):\n",
    "        means[index]=np.mean(X_train[i:i+5],axis=0,keepdims=True)\n",
    "        index+=1\n",
    "     #overall mean\n",
    "    ov_mean=np.mean(X_train,axis=0,keepdims=True)\n",
    "    Sb=np.zeros((10304,10304))\n",
    "    #between class scatter\n",
    "    for i in range(40):\n",
    "        m=means[i]-ov_mean\n",
    "        m=m.reshape(10304,1)\n",
    "        Sb=np.add(Sb,5*np.dot(m,m.T))\n",
    "    return [means,Sb]"
   ]
  },
  {
   "cell_type": "code",
   "execution_count": 7,
   "id": "aef93e6b",
   "metadata": {},
   "outputs": [],
   "source": [
    "def within_class_scatter(X_train,means):\n",
    "    #overall mean\n",
    "    ov_mean=np.mean(X_train,axis=0,keepdims=True)\n",
    "    S=np.zeros((10304,10304))\n",
    "    #within class scatter\n",
    "    index=0\n",
    "    for i in range(0,200,5):\n",
    "        class_scatter=X_train[i:i+5]-means[index]\n",
    "        class_scatter=class_scatter.reshape(5,10304)\n",
    "        index+=1\n",
    "        S=np.add(S,np.dot(class_scatter.T,class_scatter))\n",
    "    return S"
   ]
  },
  {
   "cell_type": "code",
   "execution_count": 8,
   "id": "7c1a3169",
   "metadata": {},
   "outputs": [],
   "source": [
    "def LDA(S,Sb):\n",
    "    transformation_matrix=np.dot(np.linalg.inv(S),Sb)\n",
    "    eigen_values,eigen_vectors=np.linalg.eigh(transformation_matrix)\n",
    "    #sorting eigen values\n",
    "    idx=np.argsort(eigen_values)[::-1]\n",
    "    eigen_values=eigen_values[idx]\n",
    "    eigen_vectors=eigen_vectors[:,idx]\n",
    "    U=eigen_vectors[:,:39]\n",
    "    return U\n",
    "    "
   ]
  },
  {
   "cell_type": "code",
   "execution_count": 10,
   "id": "44c2dd5a",
   "metadata": {},
   "outputs": [],
   "source": [
    "means,Sb=between_class_scatter(X_train)\n",
    "S=within_class_scatter(X_train,means)\n",
    "U=LDA(S,Sb)\n",
    "\n",
    "\n",
    "\n"
   ]
  },
  {
   "cell_type": "code",
   "execution_count": 13,
   "id": "d731914e",
   "metadata": {},
   "outputs": [
    {
     "name": "stdout",
     "output_type": "stream",
     "text": [
      "[[-0.0010907   0.0098262  -0.00318217 ...  0.00320958 -0.01806492\n",
      "   0.00207979]\n",
      " [-0.0010124   0.00900439 -0.00325589 ...  0.00116154 -0.01821399\n",
      "   0.00107265]\n",
      " [-0.00094497  0.00938537 -0.00296763 ...  0.00173206 -0.02159316\n",
      "   0.00254041]\n",
      " ...\n",
      " [ 0.002357   -0.00431373  0.00560766 ...  0.00754592 -0.01033571\n",
      "   0.00751189]\n",
      " [ 0.00344083  0.00323828  0.00124705 ... -0.01093406 -0.00280061\n",
      "  -0.00667877]\n",
      " [-0.00564313 -0.0227092   0.00627021 ... -0.0119644  -0.00966897\n",
      "   0.0443218 ]]\n"
     ]
    }
   ],
   "source": [
    "# Centering the data\n",
    "Z_train = X_train - np.mean(X_train, axis = 0) \n",
    "#centering test set\n",
    "Z_test=X_test-np.mean(X_train, axis = 0)\n",
    "#projecting training and test sets on U\n",
    "Train_projected=np.dot(U.T,Z_train.T)\n",
    "Test_projected=np.dot(U.T,Z_test.T)\n",
    "#KNN\n",
    "accuracy_LDA = knn(Train_projected,Y_train, Test_projected, Y_test,1)\n",
    "print(U)\n"
   ]
  },
  {
   "cell_type": "code",
   "execution_count": 140,
   "id": "7b61fb41",
   "metadata": {},
   "outputs": [
    {
     "data": {
      "text/plain": [
       "[<matplotlib.lines.Line2D at 0x1f62eb32bb0>]"
      ]
     },
     "execution_count": 140,
     "metadata": {},
     "output_type": "execute_result"
    },
    {
     "data": {
      "image/png": "[encoded data removed]",
      "text/plain": [
       "<Figure size 432x288 with 1 Axes>"
      ]
     },
     "metadata": {
      "needs_background": "light"
     },
     "output_type": "display_data"
    }
   ],
   "source": [
    "#classifier tuning\n",
    "k_list = [1, 3, 5, 7]\n",
    "k_accuracies=[]\n",
    "for k in k_list:\n",
    "    k_accuracies.append(knn(Train_projected,Y_train, Test_projected, Y_test,k))\n",
    "plt.plot(k_list, k_accuracies)\n"
   ]
  },
  {
   "cell_type": "code",
   "execution_count": null,
   "id": "ab116f84",
   "metadata": {},
   "outputs": [],
   "source": []
  }
 ],
 "metadata": {
  "kernelspec": {
   "display_name": "Python 3 (ipykernel)",
   "language": "python",
   "name": "python3"
  },
  "language_info": {
   "codemirror_mode": {
    "name": "ipython",
    "version": 3
   },
   "file_extension": ".py",
   "mimetype": "text/x-python",
   "name": "python",
   "nbconvert_exporter": "python",
   "pygments_lexer": "ipython3",
   "version": "3.9.7"
  }
 },
 "nbformat": 4,
 "nbformat_minor": 5
}
